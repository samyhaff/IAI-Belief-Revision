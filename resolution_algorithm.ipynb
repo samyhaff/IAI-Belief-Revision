{
 "cells": [
  {
   "cell_type": "code",
   "execution_count": 1,
   "id": "47c8d6d3",
   "metadata": {},
   "outputs": [],
   "source": [
    "import numpy as np\n",
    "\n",
    "from sympy import symbols\n",
    "from sympy.logic.boolalg import to_cnf, Not, And, to_int_repr"
   ]
  },
  {
   "cell_type": "code",
   "execution_count": 2,
   "id": "da1d15b2",
   "metadata": {},
   "outputs": [],
   "source": [
    "A, B, C, D = symbols('A B C D')"
   ]
  },
  {
   "cell_type": "code",
   "execution_count": 3,
   "id": "a3cd60c9",
   "metadata": {},
   "outputs": [
    {
     "data": {
      "text/latex": [
       "$\\displaystyle \\left(D \\vee \\neg A\\right) \\wedge \\left(D \\vee \\neg B\\right)$"
      ],
      "text/plain": [
       "(D | ~A) & (D | ~B)"
      ]
     },
     "execution_count": 3,
     "metadata": {},
     "output_type": "execute_result"
    }
   ],
   "source": [
    "formula1 = to_cnf(~(A | B) | D)\n",
    "formula1"
   ]
  },
  {
   "cell_type": "code",
   "execution_count": 4,
   "id": "a75f7282",
   "metadata": {},
   "outputs": [
    {
     "data": {
      "text/latex": [
       "$\\displaystyle \\left(B \\vee \\neg A \\vee \\neg D\\right) \\wedge \\left(B \\vee \\neg C \\vee \\neg D\\right)$"
      ],
      "text/plain": [
       "(B | ~A | ~D) & (B | ~C | ~D)"
      ]
     },
     "execution_count": 4,
     "metadata": {},
     "output_type": "execute_result"
    }
   ],
   "source": [
    "formula2 = to_cnf(~(A | C) | B | ~D)\n",
    "formula2"
   ]
  },
  {
   "cell_type": "code",
   "execution_count": 5,
   "id": "fd84cc4c",
   "metadata": {},
   "outputs": [
    {
     "data": {
      "text/latex": [
       "$\\displaystyle \\left(A \\vee B \\vee C\\right) \\wedge \\left(A \\vee B \\vee \\neg A\\right) \\wedge \\left(B \\vee C \\vee \\neg D\\right) \\wedge \\left(B \\vee \\neg A \\vee \\neg D\\right)$"
      ],
      "text/plain": [
       "(A | B | C) & (A | B | ~A) & (B | C | ~D) & (B | ~A | ~D)"
      ]
     },
     "execution_count": 5,
     "metadata": {},
     "output_type": "execute_result"
    }
   ],
   "source": [
    "formula3 = to_cnf(~(A | ~C) | B | ~ (D | ~A))\n",
    "formula3"
   ]
  },
  {
   "cell_type": "code",
   "execution_count": 6,
   "id": "5a6ddf89",
   "metadata": {},
   "outputs": [
    {
     "data": {
      "text/plain": [
       "{A, B, C, D}"
      ]
     },
     "execution_count": 6,
     "metadata": {},
     "output_type": "execute_result"
    }
   ],
   "source": [
    "formula3.free_symbols"
   ]
  },
  {
   "cell_type": "code",
   "execution_count": 7,
   "id": "f525f6e8",
   "metadata": {},
   "outputs": [
    {
     "data": {
      "text/plain": [
       "(A | B | C, A | B | ~A, B | C | ~D, B | ~A | ~D)"
      ]
     },
     "execution_count": 7,
     "metadata": {},
     "output_type": "execute_result"
    }
   ],
   "source": [
    "formula3.args"
   ]
  },
  {
   "cell_type": "code",
   "execution_count": 8,
   "id": "dcbca5c6",
   "metadata": {},
   "outputs": [
    {
     "data": {
      "text/plain": [
       "[[A, B, C], [A, B, ~A], [B, C, ~D], [B, ~A, ~D]]"
      ]
     },
     "execution_count": 8,
     "metadata": {},
     "output_type": "execute_result"
    }
   ],
   "source": [
    "[list(fo.args) for fo in formula3.args]"
   ]
  },
  {
   "cell_type": "code",
   "execution_count": 9,
   "id": "20dd068c",
   "metadata": {},
   "outputs": [
    {
     "data": {
      "text/plain": [
       "[{1, 2, 3}, {-1, 1, 2}, {-4, 2, 3}, {-4, -1, 2}]"
      ]
     },
     "execution_count": 9,
     "metadata": {},
     "output_type": "execute_result"
    }
   ],
   "source": [
    "to_int_repr(formula3.args, [A, B, C, D])"
   ]
  },
  {
   "cell_type": "code",
   "execution_count": 10,
   "id": "de0e2123",
   "metadata": {},
   "outputs": [
    {
     "data": {
      "text/latex": [
       "$\\displaystyle \\left(A \\vee B \\vee C\\right) \\wedge \\left(A \\vee B \\vee \\neg A\\right) \\wedge \\left(B \\vee C \\vee \\neg D\\right) \\wedge \\left(B \\vee \\neg A \\vee \\neg D\\right) \\wedge \\left(B \\vee \\neg C \\vee \\neg D\\right)$"
      ],
      "text/plain": [
       "(A | B | C) & (A | B | ~A) & (B | C | ~D) & (B | ~A | ~D) & (B | ~C | ~D)"
      ]
     },
     "execution_count": 10,
     "metadata": {},
     "output_type": "execute_result"
    }
   ],
   "source": [
    "kb = And(formula2, formula3)\n",
    "kb "
   ]
  },
  {
   "cell_type": "code",
   "execution_count": 11,
   "id": "904d5efa",
   "metadata": {},
   "outputs": [
    {
     "data": {
      "text/plain": [
       "And"
      ]
     },
     "execution_count": 11,
     "metadata": {},
     "output_type": "execute_result"
    }
   ],
   "source": [
    "type(kb)"
   ]
  },
  {
   "cell_type": "code",
   "execution_count": 12,
   "id": "a581a4de",
   "metadata": {},
   "outputs": [
    {
     "data": {
      "text/latex": [
       "$\\displaystyle \\left(B \\vee \\neg D\\right) \\wedge \\left(A \\vee B \\vee C\\right)$"
      ],
      "text/plain": [
       "(B | ~D) & (A | B | C)"
      ]
     },
     "execution_count": 12,
     "metadata": {},
     "output_type": "execute_result"
    }
   ],
   "source": [
    "to_cnf(kb, simplify=True)"
   ]
  },
  {
   "cell_type": "code",
   "execution_count": 13,
   "id": "1b71bc6c",
   "metadata": {
    "scrolled": true
   },
   "outputs": [
    {
     "data": {
      "text/latex": [
       "$\\displaystyle \\neg D \\wedge \\left(A \\vee B\\right) \\wedge \\left(A \\vee \\neg D\\right) \\wedge \\left(B \\vee \\neg D\\right)$"
      ],
      "text/plain": [
       "~D & (A | B) & (A | ~D) & (B | ~D)"
      ]
     },
     "execution_count": 13,
     "metadata": {},
     "output_type": "execute_result"
    }
   ],
   "source": [
    "not_phi = to_cnf(Not(formula1))\n",
    "not_phi"
   ]
  },
  {
   "cell_type": "code",
   "execution_count": 14,
   "id": "3af9c91c",
   "metadata": {},
   "outputs": [
    {
     "data": {
      "text/latex": [
       "$\\displaystyle \\neg D \\wedge \\left(A \\vee B\\right)$"
      ],
      "text/plain": [
       "~D & (A | B)"
      ]
     },
     "execution_count": 14,
     "metadata": {},
     "output_type": "execute_result"
    }
   ],
   "source": [
    "to_cnf(And(kb, not_phi), simplify=True)"
   ]
  },
  {
   "cell_type": "code",
   "execution_count": 15,
   "id": "a1c93611",
   "metadata": {},
   "outputs": [
    {
     "data": {
      "text/latex": [
       "$\\displaystyle \\neg D \\wedge \\left(A \\vee B\\right) \\wedge \\left(A \\vee \\neg D\\right) \\wedge \\left(B \\vee \\neg D\\right) \\wedge \\left(A \\vee B \\vee C\\right) \\wedge \\left(A \\vee B \\vee \\neg A\\right) \\wedge \\left(B \\vee C \\vee \\neg D\\right) \\wedge \\left(B \\vee \\neg A \\vee \\neg D\\right) \\wedge \\left(B \\vee \\neg C \\vee \\neg D\\right)$"
      ],
      "text/plain": [
       "~D & (A | B) & (A | ~D) & (B | ~D) & (A | B | C) & (A | B | ~A) & (B | C | ~D) & (B | ~A | ~D) & (B | ~C | ~D)"
      ]
     },
     "execution_count": 15,
     "metadata": {},
     "output_type": "execute_result"
    }
   ],
   "source": [
    "to_cnf(And(kb, not_phi), simplify=False)"
   ]
  },
  {
   "cell_type": "code",
   "execution_count": 16,
   "id": "c0fd9ddb",
   "metadata": {},
   "outputs": [
    {
     "data": {
      "text/plain": [
       "[{-4},\n",
       " {1, 2},\n",
       " {-4, 1},\n",
       " {-4, 2},\n",
       " {1, 2, 3},\n",
       " {-1, 1, 2},\n",
       " {-4, 2, 3},\n",
       " {-4, -1, 2},\n",
       " {-4, -3, 2}]"
      ]
     },
     "execution_count": 16,
     "metadata": {},
     "output_type": "execute_result"
    }
   ],
   "source": [
    "to_int_repr(And(kb, not_phi).args, [A, B, C, D])"
   ]
  },
  {
   "cell_type": "code",
   "execution_count": 51,
   "id": "c682be6d",
   "metadata": {},
   "outputs": [],
   "source": [
    "from heapq import heappush, heapify\n",
    "from collections import defaultdict\n",
    "\n",
    "def resolution(kb, phi, simplify=False):\n",
    "    kb = to_cnf(kb)\n",
    "    not_phi = to_cnf(Not(phi))\n",
    "    \n",
    "    clauses = to_cnf(And(kb, not_phi), simplify=simplify) # already sorted by number of literals\n",
    "    #clauses = [list(clause.args) for clause in clauses.args] # list of clauses, each composed by list of literals\n",
    "    clauses = to_int_repr(clauses.args, clauses.free_symbols) # already sorted by number of literals\n",
    "    #clauses = heapify(clauses)\n",
    "    print('clauses:', clauses)    \n",
    "    \n",
    "    # print(np.array(clauses).flatten())\n",
    "    # literals = set(clauses)\n",
    "    # print('literals', literals)\n",
    "    \n",
    "    literals_clauses = defaultdict(list)\n",
    "    for clause in clauses:\n",
    "        # TODO: delete clauses containing both A and notA\n",
    "        for literal in clause:\n",
    "            heappush(literals_clauses[literal], (len(clause), clause))\n",
    "            #literals_clauses[literal].append((len(clause), clause_id))\n",
    "            \n",
    "    #print(literals_clauses)        \n",
    "     \n",
    "    # not necessary: already sorted    \n",
    "    # for literal, clauses in literals_clauses.items():\n",
    "    #    clauses.sort(key=clauses[0])\n",
    "    \n",
    "    print('literals:', literals_clauses.keys())\n",
    "    print(literals_clauses)\n",
    "    \n",
    "    i = 0\n",
    "    while(i < len(clauses)):\n",
    "        print('clauses:', clauses)  \n",
    "        for literal in clauses[i]:\n",
    "            print('current clause:', clauses[i])\n",
    "            if literals_clauses[- literal]:\n",
    "                print('literal:', literal, '--', 'possible clauses:', [claus[-1] for claus in literals_clauses[- literal]])\n",
    "                other_clause = literals_clauses[- literal][0][-1]\n",
    "                new_clause = resolve(clauses[i], other_clause)\n",
    "                if is_empty(new_clause):\n",
    "                    return True\n",
    "                if new_clause in clauses:\n",
    "                    continue\n",
    "                clauses.insert(0, new_clause) # TODO: sort by number of literals\n",
    "                heappush(literals_clauses[literal], (len(clause), clause)) # TODO: sort also this accordingly\n",
    "                i = -1 \n",
    "                break\n",
    "        i = i + 1\n",
    "    print('final clauses:', clauses)    \n",
    "    return False    \n",
    "\n",
    "def resolve(clause1, clause2):\n",
    "    print('resolving:', clause1, clause2)\n",
    "    for literal1 in clause1:\n",
    "        for literal2 in clause2:\n",
    "            if literal1 + literal2 == 0:\n",
    "                new_clause1 = clause1 - {literal1}\n",
    "                new_clause2 = clause2 - {literal2}\n",
    "                return new_clause1.union(new_clause2)\n",
    "    return None\n",
    "\n",
    "def is_empty(clause):\n",
    "    return not clause"
   ]
  },
  {
   "cell_type": "code",
   "execution_count": 52,
   "id": "dd4a0226",
   "metadata": {},
   "outputs": [
    {
     "name": "stdout",
     "output_type": "stream",
     "text": [
      "clauses: [{-3}, {1, 2}]\n",
      "literals: dict_keys([-3, 1, 2])\n",
      "defaultdict(<class 'list'>, {-3: [(1, {-3})], 1: [(2, {1, 2})], 2: [(2, {1, 2})]})\n",
      "clauses: [{-3}, {1, 2}]\n",
      "current clause: {-3}\n",
      "clauses: [{-3}, {1, 2}]\n",
      "current clause: {1, 2}\n",
      "current clause: {1, 2}\n",
      "final clauses: [{-3}, {1, 2}]\n"
     ]
    },
    {
     "data": {
      "text/plain": [
       "False"
      ]
     },
     "execution_count": 52,
     "metadata": {},
     "output_type": "execute_result"
    }
   ],
   "source": [
    "resolution(kb, phi=formula1, simplify=True)"
   ]
  },
  {
   "cell_type": "code",
   "execution_count": 53,
   "id": "84c5eb35",
   "metadata": {},
   "outputs": [
    {
     "name": "stdout",
     "output_type": "stream",
     "text": [
      "clauses: [{-4}, {1, 3}, {1, -4}, {3, -4}, {1, 2, 3}, {1, 3, -1}, {2, 3, -4}, {3, -4, -1}, {3, -4, -2}]\n",
      "literals: dict_keys([-4, 1, 3, 2, -1, -2])\n",
      "defaultdict(<class 'list'>, {-4: [(1, {-4}), (2, {1, -4}), (2, {3, -4}), (3, {2, 3, -4}), (3, {3, -4, -1}), (3, {3, -4, -2})], 1: [(2, {1, 3}), (2, {1, -4}), (3, {1, 2, 3}), (3, {1, 3, -1})], 3: [(2, {1, 3}), (2, {3, -4}), (3, {1, 2, 3}), (3, {1, 3, -1}), (3, {2, 3, -4}), (3, {3, -4, -1}), (3, {3, -4, -2})], 2: [(3, {1, 2, 3}), (3, {2, 3, -4})], -1: [(3, {1, 3, -1}), (3, {3, -4, -1})], -2: [(3, {3, -4, -2})]})\n",
      "clauses: [{-4}, {1, 3}, {1, -4}, {3, -4}, {1, 2, 3}, {1, 3, -1}, {2, 3, -4}, {3, -4, -1}, {3, -4, -2}]\n",
      "current clause: {-4}\n",
      "clauses: [{-4}, {1, 3}, {1, -4}, {3, -4}, {1, 2, 3}, {1, 3, -1}, {2, 3, -4}, {3, -4, -1}, {3, -4, -2}]\n",
      "current clause: {1, 3}\n",
      "literal: 1 -- possible clauses: [{1, 3, -1}, {3, -4, -1}]\n",
      "resolving: {1, 3} {1, 3, -1}\n",
      "current clause: {1, 3}\n",
      "clauses: [{-4}, {1, 3}, {1, -4}, {3, -4}, {1, 2, 3}, {1, 3, -1}, {2, 3, -4}, {3, -4, -1}, {3, -4, -2}]\n",
      "current clause: {1, -4}\n",
      "literal: 1 -- possible clauses: [{1, 3, -1}, {3, -4, -1}]\n",
      "resolving: {1, -4} {1, 3, -1}\n",
      "clauses: [{1, 3, -4}, {-4}, {1, 3}, {1, -4}, {3, -4}, {1, 2, 3}, {1, 3, -1}, {2, 3, -4}, {3, -4, -1}, {3, -4, -2}]\n",
      "current clause: {1, 3, -4}\n",
      "literal: 1 -- possible clauses: [{1, 3, -1}, {3, -4, -1}]\n",
      "resolving: {1, 3, -4} {1, 3, -1}\n",
      "current clause: {1, 3, -4}\n",
      "current clause: {1, 3, -4}\n",
      "clauses: [{1, 3, -4}, {-4}, {1, 3}, {1, -4}, {3, -4}, {1, 2, 3}, {1, 3, -1}, {2, 3, -4}, {3, -4, -1}, {3, -4, -2}]\n",
      "current clause: {-4}\n",
      "clauses: [{1, 3, -4}, {-4}, {1, 3}, {1, -4}, {3, -4}, {1, 2, 3}, {1, 3, -1}, {2, 3, -4}, {3, -4, -1}, {3, -4, -2}]\n",
      "current clause: {1, 3}\n",
      "literal: 1 -- possible clauses: [{1, 3, -1}, {3, -4, -1}]\n",
      "resolving: {1, 3} {1, 3, -1}\n",
      "current clause: {1, 3}\n",
      "clauses: [{1, 3, -4}, {-4}, {1, 3}, {1, -4}, {3, -4}, {1, 2, 3}, {1, 3, -1}, {2, 3, -4}, {3, -4, -1}, {3, -4, -2}]\n",
      "current clause: {1, -4}\n",
      "literal: 1 -- possible clauses: [{1, 3, -1}, {3, -4, -1}]\n",
      "resolving: {1, -4} {1, 3, -1}\n",
      "current clause: {1, -4}\n",
      "clauses: [{1, 3, -4}, {-4}, {1, 3}, {1, -4}, {3, -4}, {1, 2, 3}, {1, 3, -1}, {2, 3, -4}, {3, -4, -1}, {3, -4, -2}]\n",
      "current clause: {3, -4}\n",
      "current clause: {3, -4}\n",
      "clauses: [{1, 3, -4}, {-4}, {1, 3}, {1, -4}, {3, -4}, {1, 2, 3}, {1, 3, -1}, {2, 3, -4}, {3, -4, -1}, {3, -4, -2}]\n",
      "current clause: {1, 2, 3}\n",
      "literal: 1 -- possible clauses: [{1, 3, -1}, {3, -4, -1}]\n",
      "resolving: {1, 2, 3} {1, 3, -1}\n",
      "current clause: {1, 2, 3}\n",
      "literal: 2 -- possible clauses: [{3, -4, -2}]\n",
      "resolving: {1, 2, 3} {3, -4, -2}\n",
      "current clause: {1, 2, 3}\n",
      "clauses: [{1, 3, -4}, {-4}, {1, 3}, {1, -4}, {3, -4}, {1, 2, 3}, {1, 3, -1}, {2, 3, -4}, {3, -4, -1}, {3, -4, -2}]\n",
      "current clause: {1, 3, -1}\n",
      "literal: 1 -- possible clauses: [{1, 3, -1}, {3, -4, -1}]\n",
      "resolving: {1, 3, -1} {1, 3, -1}\n",
      "current clause: {1, 3, -1}\n",
      "current clause: {1, 3, -1}\n",
      "literal: -1 -- possible clauses: [{1, 3}, {1, -4}, {1, 2, 3}, {1, 3, -1}, {3, -4, -2}]\n",
      "resolving: {1, 3, -1} {1, 3}\n",
      "clauses: [{1, 3, -4}, {-4}, {1, 3}, {1, -4}, {3, -4}, {1, 2, 3}, {1, 3, -1}, {2, 3, -4}, {3, -4, -1}, {3, -4, -2}]\n",
      "current clause: {2, 3, -4}\n",
      "literal: 2 -- possible clauses: [{3, -4, -2}]\n",
      "resolving: {2, 3, -4} {3, -4, -2}\n",
      "current clause: {2, 3, -4}\n",
      "current clause: {2, 3, -4}\n",
      "clauses: [{1, 3, -4}, {-4}, {1, 3}, {1, -4}, {3, -4}, {1, 2, 3}, {1, 3, -1}, {2, 3, -4}, {3, -4, -1}, {3, -4, -2}]\n",
      "current clause: {3, -4, -1}\n",
      "current clause: {3, -4, -1}\n",
      "current clause: {3, -4, -1}\n",
      "literal: -1 -- possible clauses: [{1, 3}, {1, -4}, {1, 2, 3}, {1, 3, -1}, {3, -4, -2}]\n",
      "resolving: {3, -4, -1} {1, 3}\n",
      "clauses: [{1, 3, -4}, {-4}, {1, 3}, {1, -4}, {3, -4}, {1, 2, 3}, {1, 3, -1}, {2, 3, -4}, {3, -4, -1}, {3, -4, -2}]\n",
      "current clause: {3, -4, -2}\n",
      "current clause: {3, -4, -2}\n",
      "current clause: {3, -4, -2}\n",
      "literal: -2 -- possible clauses: [{1, 2, 3}, {2, 3, -4}]\n",
      "resolving: {3, -4, -2} {1, 2, 3}\n",
      "final clauses: [{1, 3, -4}, {-4}, {1, 3}, {1, -4}, {3, -4}, {1, 2, 3}, {1, 3, -1}, {2, 3, -4}, {3, -4, -1}, {3, -4, -2}]\n"
     ]
    },
    {
     "data": {
      "text/plain": [
       "False"
      ]
     },
     "execution_count": 53,
     "metadata": {},
     "output_type": "execute_result"
    }
   ],
   "source": [
    "resolution(kb, phi=formula1, simplify=False)"
   ]
  },
  {
   "cell_type": "code",
   "execution_count": 54,
   "id": "4fcdfc06",
   "metadata": {},
   "outputs": [
    {
     "name": "stdout",
     "output_type": "stream",
     "text": [
      "clauses: [{3}, {-1}, {1, -3}, {1, -2}, {2, 3, -1}]\n",
      "literals: dict_keys([3, -1, 1, -3, -2, 2])\n",
      "defaultdict(<class 'list'>, {3: [(1, {3}), (3, {2, 3, -1})], -1: [(1, {-1}), (3, {2, 3, -1})], 1: [(2, {1, -3}), (2, {1, -2})], -3: [(2, {1, -3})], -2: [(2, {1, -2})], 2: [(3, {2, 3, -1})]})\n",
      "clauses: [{3}, {-1}, {1, -3}, {1, -2}, {2, 3, -1}]\n",
      "current clause: {3}\n",
      "literal: 3 -- possible clauses: [{1, -3}]\n",
      "resolving: {3} {1, -3}\n",
      "clauses: [{1}, {3}, {-1}, {1, -3}, {1, -2}, {2, 3, -1}]\n",
      "current clause: {1}\n",
      "literal: 1 -- possible clauses: [{-1}, {2, 3, -1}]\n",
      "resolving: {1} {-1}\n"
     ]
    },
    {
     "data": {
      "text/plain": [
       "True"
      ]
     },
     "execution_count": 54,
     "metadata": {},
     "output_type": "execute_result"
    }
   ],
   "source": [
    "r, p, s, = symbols('R P S')\n",
    "resolution(kb = (~r | p | s) & (~ p | r) & (~ s | r) & ~r, phi = ~p)"
   ]
  }
 ],
 "metadata": {
  "kernelspec": {
   "display_name": "Python 3 (ipykernel)",
   "language": "python",
   "name": "python3"
  },
  "language_info": {
   "codemirror_mode": {
    "name": "ipython",
    "version": 3
   },
   "file_extension": ".py",
   "mimetype": "text/x-python",
   "name": "python",
   "nbconvert_exporter": "python",
   "pygments_lexer": "ipython3",
   "version": "3.9.13"
  }
 },
 "nbformat": 4,
 "nbformat_minor": 5
}
